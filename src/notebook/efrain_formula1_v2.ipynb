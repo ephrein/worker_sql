{
 "cells": [
  {
   "cell_type": "code",
   "execution_count": 7,
   "metadata": {},
   "outputs": [
    {
     "ename": "ModuleNotFoundError",
     "evalue": "No module named 'findspark'",
     "output_type": "error",
     "traceback": [
      "\u001b[0;31m---------------------------------------------------------------------------\u001b[0m",
      "\u001b[0;31mModuleNotFoundError\u001b[0m                       Traceback (most recent call last)",
      "Cell \u001b[0;32mIn [7], line 1\u001b[0m\n\u001b[0;32m----> 1\u001b[0m \u001b[39mimport\u001b[39;00m \u001b[39mfindspark\u001b[39;00m\n",
      "\u001b[0;31mModuleNotFoundError\u001b[0m: No module named 'findspark'"
     ]
    }
   ],
   "source": [
    "import findspark"
   ]
  },
  {
   "cell_type": "code",
   "execution_count": 2,
   "metadata": {},
   "outputs": [],
   "source": [
    "path_circuits = \"../data/circuits.csv\"\n",
    "path_drivers = \"../data/drivers.csv\"\n",
    "path_results = \"../data/results.csv\"\n",
    "path_races = \"../data/races.csv\""
   ]
  },
  {
   "cell_type": "markdown",
   "metadata": {},
   "source": []
  },
  {
   "cell_type": "code",
   "execution_count": 3,
   "metadata": {},
   "outputs": [
    {
     "ename": "NameError",
     "evalue": "name 'spark' is not defined",
     "output_type": "error",
     "traceback": [
      "\u001b[0;31m---------------------------------------------------------------------------\u001b[0m",
      "\u001b[0;31mNameError\u001b[0m                                 Traceback (most recent call last)",
      "Cell \u001b[0;32mIn [3], line 1\u001b[0m\n\u001b[0;32m----> 1\u001b[0m circuits \u001b[39m=\u001b[39m spark\u001b[39m.\u001b[39mread\u001b[39m.\u001b[39mformat(\u001b[39m\"\u001b[39m\u001b[39mcsv\u001b[39m\u001b[39m\"\u001b[39m)\\\n\u001b[1;32m      2\u001b[0m             \u001b[39m.\u001b[39moption(\u001b[39m\"\u001b[39m\u001b[39msep\u001b[39m\u001b[39m\"\u001b[39m,\u001b[39m\"\u001b[39m\u001b[39m,\u001b[39m\u001b[39m\"\u001b[39m)\\\n\u001b[1;32m      3\u001b[0m             \u001b[39m.\u001b[39moption(\u001b[39m\"\u001b[39m\u001b[39mheader\u001b[39m\u001b[39m\"\u001b[39m,\u001b[39m\"\u001b[39m\u001b[39mtrue\u001b[39m\u001b[39m\"\u001b[39m)\\\n\u001b[1;32m      4\u001b[0m             \u001b[39m.\u001b[39moption(\u001b[39m\"\u001b[39m\u001b[39mencoding\u001b[39m\u001b[39m\"\u001b[39m,\u001b[39m\"\u001b[39m\u001b[39mutf-8\u001b[39m\u001b[39m\"\u001b[39m)\\\n\u001b[1;32m      5\u001b[0m             \u001b[39m.\u001b[39moption(\u001b[39m\"\u001b[39m\u001b[39minferSchema\u001b[39m\u001b[39m\"\u001b[39m,\u001b[39m\"\u001b[39m\u001b[39mtrue\u001b[39m\u001b[39m\"\u001b[39m)\\\n\u001b[1;32m      6\u001b[0m             \u001b[39m.\u001b[39mload(path_circuits)\n\u001b[1;32m      8\u001b[0m drivers \u001b[39m=\u001b[39m spark\u001b[39m.\u001b[39mread\u001b[39m.\u001b[39mformat(\u001b[39m\"\u001b[39m\u001b[39mcsv\u001b[39m\u001b[39m\"\u001b[39m)\\\n\u001b[1;32m      9\u001b[0m             \u001b[39m.\u001b[39moption(\u001b[39m\"\u001b[39m\u001b[39msep\u001b[39m\u001b[39m\"\u001b[39m,\u001b[39m\"\u001b[39m\u001b[39m,\u001b[39m\u001b[39m\"\u001b[39m)\\\n\u001b[1;32m     10\u001b[0m             \u001b[39m.\u001b[39moption(\u001b[39m\"\u001b[39m\u001b[39mheader\u001b[39m\u001b[39m\"\u001b[39m,\u001b[39m\"\u001b[39m\u001b[39mtrue\u001b[39m\u001b[39m\"\u001b[39m)\\\n\u001b[1;32m     11\u001b[0m             \u001b[39m.\u001b[39moption(\u001b[39m\"\u001b[39m\u001b[39mencoding\u001b[39m\u001b[39m\"\u001b[39m,\u001b[39m\"\u001b[39m\u001b[39mutf-8\u001b[39m\u001b[39m\"\u001b[39m)\\\n\u001b[1;32m     12\u001b[0m             \u001b[39m.\u001b[39moption(\u001b[39m\"\u001b[39m\u001b[39minferSchema\u001b[39m\u001b[39m\"\u001b[39m,\u001b[39m\"\u001b[39m\u001b[39mtrue\u001b[39m\u001b[39m\"\u001b[39m)\\\n\u001b[1;32m     13\u001b[0m             \u001b[39m.\u001b[39mload(path_drivers)            \n\u001b[1;32m     15\u001b[0m results \u001b[39m=\u001b[39m spark\u001b[39m.\u001b[39mread\u001b[39m.\u001b[39mformat(\u001b[39m\"\u001b[39m\u001b[39mcsv\u001b[39m\u001b[39m\"\u001b[39m)\\\n\u001b[1;32m     16\u001b[0m             \u001b[39m.\u001b[39moption(\u001b[39m\"\u001b[39m\u001b[39msep\u001b[39m\u001b[39m\"\u001b[39m,\u001b[39m\"\u001b[39m\u001b[39m,\u001b[39m\u001b[39m\"\u001b[39m)\\\n\u001b[1;32m     17\u001b[0m             \u001b[39m.\u001b[39moption(\u001b[39m\"\u001b[39m\u001b[39mheader\u001b[39m\u001b[39m\"\u001b[39m,\u001b[39m\"\u001b[39m\u001b[39mtrue\u001b[39m\u001b[39m\"\u001b[39m)\\\n\u001b[1;32m     18\u001b[0m             \u001b[39m.\u001b[39moption(\u001b[39m\"\u001b[39m\u001b[39mencoding\u001b[39m\u001b[39m\"\u001b[39m,\u001b[39m\"\u001b[39m\u001b[39mutf-8\u001b[39m\u001b[39m\"\u001b[39m)\\\n\u001b[1;32m     19\u001b[0m             \u001b[39m.\u001b[39moption(\u001b[39m\"\u001b[39m\u001b[39minferSchema\u001b[39m\u001b[39m\"\u001b[39m,\u001b[39m\"\u001b[39m\u001b[39mtrue\u001b[39m\u001b[39m\"\u001b[39m)\\\n\u001b[1;32m     20\u001b[0m             \u001b[39m.\u001b[39mload(path_results)            \n",
      "\u001b[0;31mNameError\u001b[0m: name 'spark' is not defined"
     ]
    }
   ],
   "source": [
    "circuits = spark.read.format(\"csv\")\\\n",
    "            .option(\"sep\",\",\")\\\n",
    "            .option(\"header\",\"true\")\\\n",
    "            .option(\"encoding\",\"utf-8\")\\\n",
    "            .option(\"inferSchema\",\"true\")\\\n",
    "            .load(path_circuits)\n",
    "\n",
    "drivers = spark.read.format(\"csv\")\\\n",
    "            .option(\"sep\",\",\")\\\n",
    "            .option(\"header\",\"true\")\\\n",
    "            .option(\"encoding\",\"utf-8\")\\\n",
    "            .option(\"inferSchema\",\"true\")\\\n",
    "            .load(path_drivers)            \n",
    "\n",
    "results = spark.read.format(\"csv\")\\\n",
    "            .option(\"sep\",\",\")\\\n",
    "            .option(\"header\",\"true\")\\\n",
    "            .option(\"encoding\",\"utf-8\")\\\n",
    "            .option(\"inferSchema\",\"true\")\\\n",
    "            .load(path_results)            \n",
    "\n",
    "races = spark.read.format(\"csv\")\\\n",
    "            .option(\"sep\",\",\")\\\n",
    "            .option(\"header\",\"true\")\\\n",
    "            .option(\"encoding\",\"utf-8\")\\\n",
    "            .option(\"inferSchema\",\"true\")\\\n",
    "            .load(path_races)            \n",
    "\n"
   ]
  },
  {
   "cell_type": "markdown",
   "metadata": {},
   "source": []
  },
  {
   "cell_type": "code",
   "execution_count": null,
   "metadata": {},
   "outputs": [],
   "source": [
    "print(f\"La cantidad de observaciones que tiene la tabla features son: {features_retail.count()}\")\n",
    "print(f\"La cantidad de observaciones que tiene la tabla stores son: {stores_retail.count()}\")\n",
    "print(f\"La cantidad de observaciones que tiene la tabla sales son: {sales_retail.count()}\")"
   ]
  }
 ],
 "metadata": {
  "kernelspec": {
   "display_name": "Python 3.10.5 64-bit",
   "language": "python",
   "name": "python3"
  },
  "language_info": {
   "codemirror_mode": {
    "name": "ipython",
    "version": 3
   },
   "file_extension": ".py",
   "mimetype": "text/x-python",
   "name": "python",
   "nbconvert_exporter": "python",
   "pygments_lexer": "ipython3",
   "version": "3.10.5"
  },
  "orig_nbformat": 4,
  "vscode": {
   "interpreter": {
    "hash": "aee8b7b246df8f9039afb4144a1f6fd8d2ca17a180786b69acc140d282b71a49"
   }
  }
 },
 "nbformat": 4,
 "nbformat_minor": 2
}
